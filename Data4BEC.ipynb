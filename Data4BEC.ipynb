{
  "cells": [
    {
      "cell_type": "markdown",
      "metadata": {
        "id": "hhH2c_8UIT4j"
      },
      "source": [
        "# Installation and Setup\n"
      ]
    },
    {
      "cell_type": "code",
      "execution_count": null,
      "metadata": {
        "id": "3X5rZpd0ynAX"
      },
      "outputs": [],
      "source": [
        "# Install the Prediction Guard client\n",
        "! pip install -U predictionguard\n",
        "! pip install --upgrade predictionguard"
      ]
    },
    {
      "cell_type": "code",
      "execution_count": null,
      "metadata": {
        "id": "K7ZKnRWVxuV-"
      },
      "outputs": [],
      "source": [
        "#Import packages\n",
        "import os\n",
        "import json\n",
        "import pandas as pd\n",
        "from getpass import getpass\n",
        "\n",
        "# Transcripts\n",
        "with open('transcripts.json') as f:\n",
        "  transcripts = json.load(f)\n",
        "\n",
        "# Test data\n",
        "test = pd.read_csv('test.csv')\n",
        "\n",
        "# Set your prediction guard access token (this will be provided to\n",
        "# you via email if you filled out the kick off call survey)\n",
        "pg_access_token = getpass('Enter your Prediction Guard access token: ')\n",
        "os.environ['PREDICTIONGUARD_TOKEN'] = pg_access_token\n",
        "os.environ['PREDICTIONGUARD_URL'] = \"https://intel.predictionguard.com\"\n",
        "import predictionguard as pg"
      ]
    },
    {
      "cell_type": "markdown",
      "metadata": {
        "id": "wQbXOls8IiSn"
      },
      "source": [
        "# How To Create Prompts"
      ]
    },
    {
      "cell_type": "code",
      "execution_count": null,
      "metadata": {
        "id": "85f8R4Dq1rji"
      },
      "outputs": [],
      "source": [
        "# Create an LLM prompt.\n",
        "prompt = \"\"\"### Instruction:\n",
        "Tell me a joke\n",
        "\n",
        "### Response:\n",
        "\"\"\"\n",
        "\n",
        "result = pg.Completion.create(\n",
        "    model=\"Nous-Hermes-Llama2-13B\",\n",
        "    prompt=prompt\n",
        ")\n",
        "\n",
        "print(json.dumps(\n",
        "    result,\n",
        "    sort_keys=True,\n",
        "    indent=4,\n",
        "    separators=(',', ': ')\n",
        "))\n",
        "\n",
        "print(result[\"choices\"][0]['text']) #text response"
      ]
    },
    {
      "cell_type": "code",
      "execution_count": null,
      "metadata": {
        "id": "3Lr_8qX52XAf"
      },
      "outputs": [],
      "source": [
        "# Create an LLM \"prompt\" that we will use to extract certain\n",
        "# information from the transcript.\n",
        "\n",
        "#using first transcript in the file\n",
        "prompt = f\"\"\"### Instruction:\n",
        "Extract the patient's condition from the below input.\n",
        "\n",
        "### Input:\n",
        "{transcripts['2055']}\n",
        "\n",
        "### Response:\n",
        "\"\"\".format(transcript=transcripts['2055'])"
      ]
    },
    {
      "cell_type": "code",
      "execution_count": null,
      "metadata": {
        "id": "_cQNxLqa2p-q"
      },
      "outputs": [],
      "source": [
        "# Use Nous-Hermes-Llama2-13B to extract the information.\n",
        "result = pg.Completion.create(\n",
        "    model=\"Nous-Hermes-Llama2-13B\",\n",
        "    prompt=prompt #using prompt the cell above (Extract the patient's condition from the below input.)\n",
        ")\n",
        "print(result)\n",
        "print(result[\"choices\"][0][\"text\"]) #print result"
      ]
    },
    {
      "cell_type": "markdown",
      "metadata": {
        "id": "xCSNzp-QIz0R"
      },
      "source": [
        "# Testing Model on Dataset (no augmentation/zero-shot)\n"
      ]
    },
    {
      "cell_type": "code",
      "execution_count": null,
      "metadata": {
        "colab": {
          "background_save": true
        },
        "id": "F26_DQTQ3Kmx"
      },
      "outputs": [],
      "source": [
        "#running model on every prompt\n",
        "\n",
        "def formatPrompt(q, t):\n",
        "  p = f\"\"\"\n",
        "  ### Instruction:\n",
        "  {q}\n",
        "  ### Input:\n",
        "  {t}\n",
        "  ### Response:\n",
        "  \"\"\".format(transcript=t)\n",
        "  return p\n",
        "\n",
        "solution_raw = []\n",
        "i = 0\n",
        "for index, row in test.iterrows(): #goes through each row of test.csv\n",
        "  transcript = transcripts[str(row['Transcript'])]\n",
        "  #print(transcript)\n",
        "  question = row[\"Question\"] #current prompt\n",
        "  prompt = formatPrompt(question,transcript) #formatting prompt so model can run it\n",
        "  response = \"\"\n",
        "  try:\n",
        "    result = pg.Completion.create( #stores result\n",
        "        model=\"Nous-Hermes-Llama2-13B\",\n",
        "        prompt=prompt\n",
        "    )\n",
        "    response = result[\"choices\"][0][\"text\"]\n",
        "  except:\n",
        "    response = \"Error\"\n",
        "\n",
        "  solution_raw.append([ # adding results to solution csv\n",
        "      row['Id'],\n",
        "      response\n",
        "  ])\n",
        "  if i>20:break\n",
        "  i+=1\n",
        "\n",
        "  print(response)\n",
        "  print()\n",
        "\n",
        "solution = pd.DataFrame(solution_raw, columns=[\"Id\", \"Text\"]) #turning into panda dataframe\n",
        "solution.head()"
      ]
    },
    {
      "cell_type": "markdown",
      "metadata": {
        "id": "yz3HE2eOZpYF"
      },
      "source": [
        "# Basic Prompting\n"
      ]
    },
    {
      "cell_type": "code",
      "execution_count": null,
      "metadata": {
        "id": "d0V6vU2IZvKY"
      },
      "outputs": [],
      "source": [
        "#running model on every prompt\n",
        "\n",
        "def formatPrompt(t, q):\n",
        "  p = f\"\"\"\n",
        "  ### Instruction:\n",
        "  {t}\n",
        "  ### Input:\n",
        "  {q}\n",
        "  ### Response:\n",
        "  \"\"\".format(transcript=t)\n",
        "  return p\n",
        "\n",
        "format = {\n",
        "    \"What is the patient's name?\":\"The name is...\",\n",
        "    \"What is the patient's age?\":\"The age is...\",\n",
        "    \"What is the patient's condition?\":\"The condition is...\",\n",
        "    \"What symptoms is the patient experiencing?\":\"The patient is experiencing...\",\n",
        "    \"What precautions did the doctor advise?\":\"The doctor advises...\",\n",
        "    \"What drug did the doctor prescribe?\":\"The doctor prescribed...\"\n",
        "}\n",
        "\n",
        "examples = {\n",
        "    \"What is the patient's name?\":\n",
        "      \"\"\"\n",
        "      Example: The name is John Smith.\n",
        "      Example: The name is Kevin Bacon.\n",
        "      Example: The name is Jeffery Montblanc.\n",
        "      Example: The name is Edgar Allen Poe.\n",
        "      Example: The name is Selena Gomez.\n",
        "      Example: The name is Ajeet Singh.\n",
        "      Example: The name is Kevin Nguyen.\n",
        "      Example: The name is Maria Kim.\n",
        "      Example: The name is Hellen Keller.\n",
        "      \"\"\",\n",
        "    \"What is the patient's age?\":\n",
        "      \"\"\"\n",
        "      Example: 25-years-old\n",
        "      Example: 3-years-old\n",
        "      Example: 98-years-old\n",
        "      Example: 72-years-old\n",
        "      Example: 37-years-old\n",
        "      Example: 44-years-old\n",
        "      Example: 51-years-old\n",
        "      Example: 29-years-old\n",
        "      Example: 63-years-old\n",
        "      Example: 86-years-old\n",
        "      \"\"\",\n",
        "    \"What is the patient's condition?\":\n",
        "      \"\"\"\n",
        "      Example: The condition is a fungal infection.\n",
        "      Example: The condition is hypothermia.\n",
        "      Example: The condition is excessive body odor.\n",
        "      Example: The condition is diabetes.\n",
        "      Example: The condition is fractured tailbone.\n",
        "      Example: The condition is food poisoning.\n",
        "      Example: The condition is pneumonia.\n",
        "      Example: The condition is hives.\n",
        "      Example: The condition is a stroke.\n",
        "      Example: The condition is cancer.\n",
        "      \"\"\",\n",
        "    \"What symptoms is the patient experiencing?\":\n",
        "      \"\"\"\n",
        "      Example: The symptoms are itchiness, swelling, and pain around the affected area.\n",
        "      Example: The symptoms are unable to get up.\n",
        "      Example: The symptoms are coughing, loss of taste, and muscle fatigue.\n",
        "      Example: The symptoms are muscle soreness and elbow pain.\n",
        "      Example: The symptoms are stomach aches, vomitting, and chills.\n",
        "      Example: The symptoms are diarrhea, fever, and stomach pain.\n",
        "      Example: The symptoms are hard time sleeping and cold sweats.\n",
        "      Example: The symptoms are nausea and dizziness.\n",
        "      Example: The symptoms are chest pain and heart burn.\n",
        "      Example: The symptoms are shortness of breathe, dehydration, and overheating.\n",
        "\n",
        "      \"\"\",\n",
        "    \"What precautions did the doctor advise?\":\n",
        "      \"\"\"\n",
        "      Example: The doctor advised washing the wound, applying ointment, and a bandage.\n",
        "      Example: The doctor advised drinking more water.\n",
        "      Example: The doctor advised eating less food and walking more.\n",
        "      Example: The doctor advised to not run for three weeks.\n",
        "      Example: The doctor advised reducing cholesterol intake and eating more fiber.\n",
        "      Example: The doctor advised getting more sleep, drinking less caffeine, and taking vitamin C.\n",
        "      Example: The doctor advised doing more stretches and swimming.\n",
        "      Example: The doctor advised watching less TV and getting 60 minutes of exercise.\n",
        "      Example: The doctor advised to see a physical therapist.\n",
        "      Example: The doctor advised getting tested for allergies and staying away from lactose.\n",
        "      \"\"\",\n",
        "    \"What drug did the doctor prescribe?\":\n",
        "      \"\"\"\n",
        "      Example: The doctor prescribed antibiotics.\n",
        "      Example: The doctor prescribed motrin.\n",
        "      Example: The doctor prescribed lisinopril.\n",
        "      Example: The doctor prescribed levothyroxine.\n",
        "      Example: The doctor prescribed atorvastatin.\n",
        "      Example: The doctor prescribed metformin.\n",
        "      Example: The doctor prescribed simvastatin.\n",
        "      Example: The doctor prescribed albuterol.\n",
        "      Example: The doctor prescribed amlodipine.\n",
        "      Example: The doctor prescribed nothing.\n",
        "\n",
        "      \"\"\"\n",
        "}\n",
        "\n",
        "solution_raw = []\n",
        "i = 0\n",
        "for index, row in test.iterrows(): #goes through each row of test.csv\n",
        "  transcript = transcripts[str(row['Transcript'])]\n",
        "  question = row[\"Question\"] #current prompt\n",
        "  instruction = \"Answer the question below based off the transript. Answer with the same format as the examples given.\\n\"\n",
        "  prompt = formatPrompt(instruction + examples[question], \"Transcript:\\n\" + transcript + \"\\n\\nQuestion:\" + question) #formatting prompt so model can run it\n",
        "  print(prompt)\n",
        "  response = \"\"\n",
        "  try:\n",
        "    result = pg.Completion.create( #stores result\n",
        "        model=\"Nous-Hermes-Llama2-13B\",\n",
        "        prompt=prompt\n",
        "    )\n",
        "    response = result[\"choices\"][0][\"text\"]\n",
        "  except:\n",
        "    response = \"Error\"\n",
        "\n",
        "  solution_raw.append([ # adding results to solution csv\n",
        "      row['Id'],\n",
        "      response\n",
        "  ])\n",
        "  if i>20:break\n",
        "  i+=1\n",
        "\n",
        "  print(response)\n",
        "  print()\n",
        "\n",
        "solution = pd.DataFrame(solution_raw, columns=[\"Id\", \"Text\"]) #turning into panda dataframe\n",
        "solution.head()"
      ]
    },
    {
      "cell_type": "markdown",
      "metadata": {
        "id": "6j7Vx6MPZjIP"
      },
      "source": [
        "# Save to File\n"
      ]
    },
    {
      "cell_type": "code",
      "execution_count": null,
      "metadata": {
        "id": "bkbcSUmYN_lP"
      },
      "outputs": [],
      "source": [
        "solution.to_csv(\"sample_submission.csv\", index=False) #saving to file"
      ]
    }
  ],
  "metadata": {
    "accelerator": "GPU",
    "colab": {
      "collapsed_sections": [
        "wQbXOls8IiSn",
        "xCSNzp-QIz0R",
        "6j7Vx6MPZjIP"
      ],
      "provenance": []
    },
    "kernelspec": {
      "display_name": "Python 3",
      "name": "python3"
    },
    "language_info": {
      "name": "python"
    }
  },
  "nbformat": 4,
  "nbformat_minor": 0
}